{
 "cells": [
  {
   "cell_type": "code",
   "execution_count": null,
   "id": "1f31a1af",
   "metadata": {},
   "outputs": [],
   "source": [
    "# Ref: https://towardsdatascience.com/create-a-simple-app-quickly-using-jupyter-notebook-312bdbb9d224"
   ]
  },
  {
   "cell_type": "code",
   "execution_count": 1,
   "id": "7000db32",
   "metadata": {},
   "outputs": [],
   "source": [
    "from xml.etree import ElementTree\n",
    "import csv\n",
    "from datetime import datetime\n",
    "import sys\n",
    "import ipywidgets as widgets"
   ]
  },
  {
   "cell_type": "code",
   "execution_count": 14,
   "id": "d7c1308d",
   "metadata": {},
   "outputs": [],
   "source": [
    "def oira_csvlineadd(xml_name, year, csvfile_writer):\n",
    "    \n",
    "    # Parse XML File\n",
    "    xml = ElementTree.parse(xml_name+\"EO_RULE_COMPLETED_\"+str(year)+\".xml\")\n",
    "            \n",
    "    # For each regulatory act:\n",
    "    for regact in xml.findall(\"REGACT\"):\n",
    "            if (regact): \n",
    "                # Extract Reg act details:\n",
    "                agency_code = regact.find(\"AGENCY_CODE\").text\n",
    "                rin = regact.find(\"RIN\").text\n",
    "                title = regact.find(\"TITLE\").text   \n",
    "                stage = regact.find(\"STAGE\").text                    \n",
    "                ES = regact.find(\"ECONOMICALLY_SIGNIFICANT\").text\n",
    "                date_received = regact.find(\"DATE_RECEIVED\").text       \n",
    "                legal_deadline = regact.find(\"LEGAL_DEADLINE\").text\n",
    "                date_completed = regact.find(\"DATE_COMPLETED\").text\n",
    "                decision = regact.find(\"DECISION\").text        \n",
    "                if regact.find(\"DATE_PUBLISHED\")!=None:\n",
    "                    date_published = regact.find(\"DATE_PUBLISHED\").text\n",
    "                else: date_published = \"NA\"\n",
    "                if regact.find(\"HEALTH_CARE_ACT\")!=None:\n",
    "                    health_care_act = regact.find(\"HEALTH_CARE_ACT\").text\n",
    "                else: health_care_act = \"NA\"\n",
    "                if regact.find(\"DODD_FRANK_ACT\")!=None:\n",
    "                    Dood_Frank_Act = regact.find(\"DODD_FRANK_ACT\").text   \n",
    "                else: Dood_Frank_Act = \"NA\"\n",
    "                if regact.find(\"INTERNATIONAL_IMPACTS\")!=None:\n",
    "                    international_impacts = regact.find(\"INTERNATIONAL_IMPACTS\").text\n",
    "                else: international_impacts = \"NA\"\n",
    "                if regact.find(\"UNFUNDED_MANDATES\")!=None:\n",
    "                    unfunded_mandates = regact.find(\"UNFUNDED_MANDATES\").text\n",
    "                else: unfunded_mandates = \"NA\"\n",
    "                if regact.find(\"MAJOR\")!=None:\n",
    "                    major = regact.find(\"MAJOR\").text\n",
    "                else: major = \"NA\"\n",
    "                if regact.find(\"HOMELAND_SECURITY\")!=None:\n",
    "                    homeland_security = regact.find(\"HOMELAND_SECURITY\").text\n",
    "                else: homeland_security = \"NA\"\n",
    "                if regact.find(\"REGULATORY_FLEXIBILITY_ANALYSIS\")!=None:\n",
    "                    regulatory_flexibility_analysis = regact.find(\"REGULATORY_FLEXIBILITY_ANALYSIS\").text\n",
    "                else: regulatory_flexibility_analysis = \"NA\"\n",
    "                        \n",
    "                        \n",
    "                csv_line = [agency_code, rin, title, stage, ES, date_received, \n",
    "                            legal_deadline, date_completed, decision, date_published, \n",
    "                            health_care_act, Dood_Frank_Act, international_impacts,\n",
    "                            unfunded_mandates, major, homeland_security, regulatory_flexibility_analysis]\n",
    "                \n",
    "                # Add a new row to CSV File\n",
    "                csvfile_writer.writerow(csv_line)\n",
    "                \n",
    "    return \n",
    "            \n",
    "def get_option():\n",
    "    print(\"Enter: \\n '1' to convert all XMLs into seperate CSV files,\"\n",
    "      \"\\n '2' to convert all XMLs into one CSV file,\"\n",
    "      \"\\n '3' to select an individual year and convert it to a CSV file.\")\n",
    "    option = widgets.IntText(value=3)\n",
    "    display(option)\n",
    "    value = int(option.value)\n",
    "    \n",
    "    return value\n",
    "\n",
    "def get_year(value):\n",
    "    if value==3:\n",
    "        print(\"Select the year:\")\n",
    "        select_year=widgets.FloatText(value=1981)\n",
    "        display(select_year)\n",
    "        year = int(select_year.value)\n",
    "    else:\n",
    "        year=None\n",
    "        \n",
    "    return year\n",
    "\n",
    "            \n",
    "def convert_OIRAxmltocsv():\n",
    "    \n",
    "    xml_name = \"./Raw Data/\"\n",
    "    output_path=\"./CSV Data/\"\n",
    "    currentYear = datetime.now().year\n",
    "    Years = list(range(1981, currentYear))\n",
    "    \n",
    "    value=get_option()\n",
    "    Year=get_year(value)\n",
    "        \n",
    "    if value == 1:\n",
    "        for Year in Years:\n",
    "            \n",
    "            # Create CSV File\n",
    "            csvfile = open(output_path+\"EO_RULE_COMPLETED_\"+str(Year)+\".csv\",'w',encoding='utf-8')\n",
    "            csvfile_writer = csv.writer(csvfile)\n",
    "\n",
    "            # Adding header to CSV File:\n",
    "            csvfile_writer.writerow([\"agency_code\",\"rin\",\"title\",\"stage\",\"ES\",\n",
    "                                     \"date_received\",\"legal_deadline\",\"date_completed\", \"decision\",\n",
    "                                     \"date_published\", \"health_care_act\",\"Dood_Frank_Act\",\"international_impacts\",\n",
    "                                     \"unfunded_mandates\",\"major\",\"homeland_security\",\"regulatory_flexibility_analysis\"])\n",
    "        \n",
    "            \n",
    "            oira_csvlineadd(xml_name, Year, csvfile_writer)\n",
    "\n",
    "\n",
    "            csvfile.close()\n",
    "            print(\"The CSV file has been created for year\", Year)\n",
    "            \n",
    "    elif value == 2:\n",
    "        # Create CSV File\n",
    "        csvfile = open(output_path+\"EO_RULE_COMPLETED_\"+str(Years[0])+\"_to_\"+str(Years[-1])+\".csv\",'w',encoding='utf-8')\n",
    "        csvfile_writer = csv.writer(csvfile)\n",
    "\n",
    "        # Adding header to CSV File:\n",
    "        csvfile_writer.writerow([\"agency_code\",\"rin\",\"title\",\"stage\",\"ES\",\n",
    "                                 \"date_received\",\"legal_deadline\",\"date_completed\", \"decision\",\n",
    "                                 \"date_published\", \"health_care_act\",\"Dood_Frank_Act\",\"international_impacts\",\n",
    "                                 \"unfunded_mandates\",\"major\",\"homeland_security\",\"regulatory_flexibility_analysis\"])\n",
    "        \n",
    "        \n",
    "        for Year in Years:\n",
    "            \n",
    "            oira_csvlineadd(xml_name, Year, csvfile_writer)               \n",
    "            print(f\"The year {Year} has been added to the CSV file\")\n",
    "            \n",
    "        csvfile.close()\n",
    "        \n",
    "    \n",
    "    elif value == 3:\n",
    "        \n",
    "        for retry in range(3):       \n",
    "            if Year in Years:\n",
    "            \n",
    "                # Create CSV File\n",
    "                csvfile = open(output_path+\"EO_RULE_COMPLETED_\"+str(Year)+\".csv\",'w',encoding='utf-8')\n",
    "                csvfile_writer = csv.writer(csvfile)\n",
    "\n",
    "                # Adding header to CSV File:\n",
    "                csvfile_writer.writerow([\"agency_code\",\"rin\",\"title\",\"stage\",\"ES\",\n",
    "                                 \"date_received\",\"legal_deadline\",\"date_completed\", \"decision\",\n",
    "                                \"date_published\", \"health_care_act\",\"Dood_Frank_Act\",\"international_impacts\",\n",
    "                                \"unfunded_mandates\",\"major\",\"homeland_security\",\"regulatory_flexibility_analysis\"])\n",
    "            \n",
    "            \n",
    "                oira_csvlineadd(xml_name, Year, csvfile_writer)\n",
    "            \n",
    "                csvfile.close()\n",
    "                print(\"The CSV file has been created for year\", Year)\n",
    "                break\n",
    "                \n",
    "            print(f\"Pick an year between 1981 and {currentYear-1}\")\n",
    "        else:\n",
    "            print(\"You have made invalid choices\")\n",
    "            sys.exit(1)\n",
    "                \n",
    "    return  \n",
    "            "
   ]
  },
  {
   "cell_type": "code",
   "execution_count": 6,
   "id": "775c7431",
   "metadata": {},
   "outputs": [
    {
     "name": "stdout",
     "output_type": "stream",
     "text": [
      "Enter: \n",
      " '1' to convert all XMLs into seperate CSV files,\n",
      " '2' to convert all XMLs into one CSV file,\n",
      " '3' to select an individual year and convert it to a CSV file.\n"
     ]
    },
    {
     "data": {
      "application/vnd.jupyter.widget-view+json": {
       "model_id": "1d6536873fa14e86a3af39ecb69a920a",
       "version_major": 2,
       "version_minor": 0
      },
      "text/plain": [
       "FloatText(value=3.0)"
      ]
     },
     "metadata": {},
     "output_type": "display_data"
    }
   ],
   "source": [
    "print(\"Enter: \\n '1' to convert all XMLs into seperate CSV files,\"\n",
    "      \"\\n '2' to convert all XMLs into one CSV file,\"\n",
    "      \"\\n '3' to select an individual year and convert it to a CSV file.\")\n",
    "option = widgets.FloatText(value=3)\n",
    "display(option)"
   ]
  },
  {
   "cell_type": "code",
   "execution_count": 15,
   "id": "f870e5c5",
   "metadata": {},
   "outputs": [
    {
     "name": "stdout",
     "output_type": "stream",
     "text": [
      "Enter: \n",
      " '1' to convert all XMLs into seperate CSV files,\n",
      " '2' to convert all XMLs into one CSV file,\n",
      " '3' to select an individual year and convert it to a CSV file.\n"
     ]
    },
    {
     "data": {
      "application/vnd.jupyter.widget-view+json": {
       "model_id": "c8c07f243b5643a89ca57e69cb5109dd",
       "version_major": 2,
       "version_minor": 0
      },
      "text/plain": [
       "IntText(value=3)"
      ]
     },
     "metadata": {},
     "output_type": "display_data"
    },
    {
     "name": "stdout",
     "output_type": "stream",
     "text": [
      "Select the year:\n"
     ]
    },
    {
     "data": {
      "application/vnd.jupyter.widget-view+json": {
       "model_id": "3f0f40ac42fb4902a09a422f90cd61a4",
       "version_major": 2,
       "version_minor": 0
      },
      "text/plain": [
       "FloatText(value=1981.0)"
      ]
     },
     "metadata": {},
     "output_type": "display_data"
    },
    {
     "name": "stdout",
     "output_type": "stream",
     "text": [
      "The CSV file has been created for year 1981\n"
     ]
    }
   ],
   "source": [
    "convert_OIRAxmltocsv()"
   ]
  },
  {
   "cell_type": "code",
   "execution_count": null,
   "id": "2a993f37",
   "metadata": {},
   "outputs": [],
   "source": []
  }
 ],
 "metadata": {
  "kernelspec": {
   "display_name": "Python 3 (ipykernel)",
   "language": "python",
   "name": "python3"
  },
  "language_info": {
   "codemirror_mode": {
    "name": "ipython",
    "version": 3
   },
   "file_extension": ".py",
   "mimetype": "text/x-python",
   "name": "python",
   "nbconvert_exporter": "python",
   "pygments_lexer": "ipython3",
   "version": "3.9.12"
  }
 },
 "nbformat": 4,
 "nbformat_minor": 5
}
